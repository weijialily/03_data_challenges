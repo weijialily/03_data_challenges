{
 "cells": [
  {
   "cell_type": "code",
   "execution_count": 2,
   "metadata": {},
   "outputs": [],
   "source": [
    "import numpy as np\n",
    "import pandas as pd\n",
    "import seaborn as sns\n",
    "from sklearn import metrics\n",
    "import matplotlib.pyplot as plt\n",
    "from sklearn.metrics import confusion_matrix, accuracy_score, classification_report\n",
    "% matplotlib inline\n",
    "plt.style.use('ggplot')"
   ]
  },
  {
   "cell_type": "markdown",
   "metadata": {},
   "source": [
    "## 1. Load Data"
   ]
  },
  {
   "cell_type": "code",
   "execution_count": 3,
   "metadata": {},
   "outputs": [],
   "source": [
    "df_train = pd.read_csv('train_ajEneEa.csv')\n",
    "df_test = pd.read_csv('test_v2akXPA.csv')"
   ]
  },
  {
   "cell_type": "code",
   "execution_count": 4,
   "metadata": {},
   "outputs": [],
   "source": [
    "df_full = pd.concat([df_train, df_test], ignore_index=True)"
   ]
  },
  {
   "cell_type": "code",
   "execution_count": 5,
   "metadata": {},
   "outputs": [
    {
     "data": {
      "text/html": [
       "<div>\n",
       "<style scoped>\n",
       "    .dataframe tbody tr th:only-of-type {\n",
       "        vertical-align: middle;\n",
       "    }\n",
       "\n",
       "    .dataframe tbody tr th {\n",
       "        vertical-align: top;\n",
       "    }\n",
       "\n",
       "    .dataframe thead th {\n",
       "        text-align: right;\n",
       "    }\n",
       "</style>\n",
       "<table border=\"1\" class=\"dataframe\">\n",
       "  <thead>\n",
       "    <tr style=\"text-align: right;\">\n",
       "      <th></th>\n",
       "      <th>id</th>\n",
       "      <th>gender</th>\n",
       "      <th>age</th>\n",
       "      <th>hypertension</th>\n",
       "      <th>heart_disease</th>\n",
       "      <th>ever_married</th>\n",
       "      <th>work_type</th>\n",
       "      <th>Residence_type</th>\n",
       "      <th>avg_glucose_level</th>\n",
       "      <th>bmi</th>\n",
       "      <th>smoking_status</th>\n",
       "      <th>stroke</th>\n",
       "    </tr>\n",
       "  </thead>\n",
       "  <tbody>\n",
       "    <tr>\n",
       "      <th>0</th>\n",
       "      <td>30669</td>\n",
       "      <td>Male</td>\n",
       "      <td>3.0</td>\n",
       "      <td>0</td>\n",
       "      <td>0</td>\n",
       "      <td>No</td>\n",
       "      <td>children</td>\n",
       "      <td>Rural</td>\n",
       "      <td>95.12</td>\n",
       "      <td>18.0</td>\n",
       "      <td>NaN</td>\n",
       "      <td>0</td>\n",
       "    </tr>\n",
       "    <tr>\n",
       "      <th>1</th>\n",
       "      <td>30468</td>\n",
       "      <td>Male</td>\n",
       "      <td>58.0</td>\n",
       "      <td>1</td>\n",
       "      <td>0</td>\n",
       "      <td>Yes</td>\n",
       "      <td>Private</td>\n",
       "      <td>Urban</td>\n",
       "      <td>87.96</td>\n",
       "      <td>39.2</td>\n",
       "      <td>never smoked</td>\n",
       "      <td>0</td>\n",
       "    </tr>\n",
       "    <tr>\n",
       "      <th>2</th>\n",
       "      <td>16523</td>\n",
       "      <td>Female</td>\n",
       "      <td>8.0</td>\n",
       "      <td>0</td>\n",
       "      <td>0</td>\n",
       "      <td>No</td>\n",
       "      <td>Private</td>\n",
       "      <td>Urban</td>\n",
       "      <td>110.89</td>\n",
       "      <td>17.6</td>\n",
       "      <td>NaN</td>\n",
       "      <td>0</td>\n",
       "    </tr>\n",
       "    <tr>\n",
       "      <th>3</th>\n",
       "      <td>56543</td>\n",
       "      <td>Female</td>\n",
       "      <td>70.0</td>\n",
       "      <td>0</td>\n",
       "      <td>0</td>\n",
       "      <td>Yes</td>\n",
       "      <td>Private</td>\n",
       "      <td>Rural</td>\n",
       "      <td>69.04</td>\n",
       "      <td>35.9</td>\n",
       "      <td>formerly smoked</td>\n",
       "      <td>0</td>\n",
       "    </tr>\n",
       "    <tr>\n",
       "      <th>4</th>\n",
       "      <td>46136</td>\n",
       "      <td>Male</td>\n",
       "      <td>14.0</td>\n",
       "      <td>0</td>\n",
       "      <td>0</td>\n",
       "      <td>No</td>\n",
       "      <td>Never_worked</td>\n",
       "      <td>Rural</td>\n",
       "      <td>161.28</td>\n",
       "      <td>19.1</td>\n",
       "      <td>NaN</td>\n",
       "      <td>0</td>\n",
       "    </tr>\n",
       "  </tbody>\n",
       "</table>\n",
       "</div>"
      ],
      "text/plain": [
       "      id  gender   age  hypertension  heart_disease ever_married  \\\n",
       "0  30669    Male   3.0             0              0           No   \n",
       "1  30468    Male  58.0             1              0          Yes   \n",
       "2  16523  Female   8.0             0              0           No   \n",
       "3  56543  Female  70.0             0              0          Yes   \n",
       "4  46136    Male  14.0             0              0           No   \n",
       "\n",
       "      work_type Residence_type  avg_glucose_level   bmi   smoking_status  \\\n",
       "0      children          Rural              95.12  18.0              NaN   \n",
       "1       Private          Urban              87.96  39.2     never smoked   \n",
       "2       Private          Urban             110.89  17.6              NaN   \n",
       "3       Private          Rural              69.04  35.9  formerly smoked   \n",
       "4  Never_worked          Rural             161.28  19.1              NaN   \n",
       "\n",
       "   stroke  \n",
       "0       0  \n",
       "1       0  \n",
       "2       0  \n",
       "3       0  \n",
       "4       0  "
      ]
     },
     "execution_count": 5,
     "metadata": {},
     "output_type": "execute_result"
    }
   ],
   "source": [
    "df_train.head()"
   ]
  },
  {
   "cell_type": "code",
   "execution_count": 6,
   "metadata": {},
   "outputs": [
    {
     "data": {
      "text/html": [
       "<div>\n",
       "<style scoped>\n",
       "    .dataframe tbody tr th:only-of-type {\n",
       "        vertical-align: middle;\n",
       "    }\n",
       "\n",
       "    .dataframe tbody tr th {\n",
       "        vertical-align: top;\n",
       "    }\n",
       "\n",
       "    .dataframe thead th {\n",
       "        text-align: right;\n",
       "    }\n",
       "</style>\n",
       "<table border=\"1\" class=\"dataframe\">\n",
       "  <thead>\n",
       "    <tr style=\"text-align: right;\">\n",
       "      <th></th>\n",
       "      <th>id</th>\n",
       "      <th>gender</th>\n",
       "      <th>age</th>\n",
       "      <th>hypertension</th>\n",
       "      <th>heart_disease</th>\n",
       "      <th>ever_married</th>\n",
       "      <th>work_type</th>\n",
       "      <th>Residence_type</th>\n",
       "      <th>avg_glucose_level</th>\n",
       "      <th>bmi</th>\n",
       "      <th>smoking_status</th>\n",
       "    </tr>\n",
       "  </thead>\n",
       "  <tbody>\n",
       "    <tr>\n",
       "      <th>0</th>\n",
       "      <td>36306</td>\n",
       "      <td>Male</td>\n",
       "      <td>80.0</td>\n",
       "      <td>0</td>\n",
       "      <td>0</td>\n",
       "      <td>Yes</td>\n",
       "      <td>Private</td>\n",
       "      <td>Urban</td>\n",
       "      <td>83.84</td>\n",
       "      <td>21.1</td>\n",
       "      <td>formerly smoked</td>\n",
       "    </tr>\n",
       "    <tr>\n",
       "      <th>1</th>\n",
       "      <td>61829</td>\n",
       "      <td>Female</td>\n",
       "      <td>74.0</td>\n",
       "      <td>0</td>\n",
       "      <td>1</td>\n",
       "      <td>Yes</td>\n",
       "      <td>Self-employed</td>\n",
       "      <td>Rural</td>\n",
       "      <td>179.50</td>\n",
       "      <td>26.0</td>\n",
       "      <td>formerly smoked</td>\n",
       "    </tr>\n",
       "    <tr>\n",
       "      <th>2</th>\n",
       "      <td>14152</td>\n",
       "      <td>Female</td>\n",
       "      <td>14.0</td>\n",
       "      <td>0</td>\n",
       "      <td>0</td>\n",
       "      <td>No</td>\n",
       "      <td>children</td>\n",
       "      <td>Rural</td>\n",
       "      <td>95.16</td>\n",
       "      <td>21.2</td>\n",
       "      <td>NaN</td>\n",
       "    </tr>\n",
       "    <tr>\n",
       "      <th>3</th>\n",
       "      <td>12997</td>\n",
       "      <td>Male</td>\n",
       "      <td>28.0</td>\n",
       "      <td>0</td>\n",
       "      <td>0</td>\n",
       "      <td>No</td>\n",
       "      <td>Private</td>\n",
       "      <td>Urban</td>\n",
       "      <td>94.76</td>\n",
       "      <td>23.4</td>\n",
       "      <td>NaN</td>\n",
       "    </tr>\n",
       "    <tr>\n",
       "      <th>4</th>\n",
       "      <td>40801</td>\n",
       "      <td>Female</td>\n",
       "      <td>63.0</td>\n",
       "      <td>0</td>\n",
       "      <td>0</td>\n",
       "      <td>Yes</td>\n",
       "      <td>Govt_job</td>\n",
       "      <td>Rural</td>\n",
       "      <td>83.57</td>\n",
       "      <td>27.6</td>\n",
       "      <td>never smoked</td>\n",
       "    </tr>\n",
       "  </tbody>\n",
       "</table>\n",
       "</div>"
      ],
      "text/plain": [
       "      id  gender   age  hypertension  heart_disease ever_married  \\\n",
       "0  36306    Male  80.0             0              0          Yes   \n",
       "1  61829  Female  74.0             0              1          Yes   \n",
       "2  14152  Female  14.0             0              0           No   \n",
       "3  12997    Male  28.0             0              0           No   \n",
       "4  40801  Female  63.0             0              0          Yes   \n",
       "\n",
       "       work_type Residence_type  avg_glucose_level   bmi   smoking_status  \n",
       "0        Private          Urban              83.84  21.1  formerly smoked  \n",
       "1  Self-employed          Rural             179.50  26.0  formerly smoked  \n",
       "2       children          Rural              95.16  21.2              NaN  \n",
       "3        Private          Urban              94.76  23.4              NaN  \n",
       "4       Govt_job          Rural              83.57  27.6     never smoked  "
      ]
     },
     "execution_count": 6,
     "metadata": {},
     "output_type": "execute_result"
    }
   ],
   "source": [
    "df_test.head()"
   ]
  },
  {
   "cell_type": "code",
   "execution_count": 7,
   "metadata": {},
   "outputs": [
    {
     "data": {
      "text/html": [
       "<div>\n",
       "<style scoped>\n",
       "    .dataframe tbody tr th:only-of-type {\n",
       "        vertical-align: middle;\n",
       "    }\n",
       "\n",
       "    .dataframe tbody tr th {\n",
       "        vertical-align: top;\n",
       "    }\n",
       "\n",
       "    .dataframe thead th {\n",
       "        text-align: right;\n",
       "    }\n",
       "</style>\n",
       "<table border=\"1\" class=\"dataframe\">\n",
       "  <thead>\n",
       "    <tr style=\"text-align: right;\">\n",
       "      <th></th>\n",
       "      <th>Residence_type</th>\n",
       "      <th>age</th>\n",
       "      <th>avg_glucose_level</th>\n",
       "      <th>bmi</th>\n",
       "      <th>ever_married</th>\n",
       "      <th>gender</th>\n",
       "      <th>heart_disease</th>\n",
       "      <th>hypertension</th>\n",
       "      <th>id</th>\n",
       "      <th>smoking_status</th>\n",
       "      <th>stroke</th>\n",
       "      <th>work_type</th>\n",
       "    </tr>\n",
       "  </thead>\n",
       "  <tbody>\n",
       "    <tr>\n",
       "      <th>0</th>\n",
       "      <td>Rural</td>\n",
       "      <td>3.0</td>\n",
       "      <td>95.12</td>\n",
       "      <td>18.0</td>\n",
       "      <td>No</td>\n",
       "      <td>Male</td>\n",
       "      <td>0</td>\n",
       "      <td>0</td>\n",
       "      <td>30669</td>\n",
       "      <td>NaN</td>\n",
       "      <td>0.0</td>\n",
       "      <td>children</td>\n",
       "    </tr>\n",
       "    <tr>\n",
       "      <th>1</th>\n",
       "      <td>Urban</td>\n",
       "      <td>58.0</td>\n",
       "      <td>87.96</td>\n",
       "      <td>39.2</td>\n",
       "      <td>Yes</td>\n",
       "      <td>Male</td>\n",
       "      <td>0</td>\n",
       "      <td>1</td>\n",
       "      <td>30468</td>\n",
       "      <td>never smoked</td>\n",
       "      <td>0.0</td>\n",
       "      <td>Private</td>\n",
       "    </tr>\n",
       "    <tr>\n",
       "      <th>2</th>\n",
       "      <td>Urban</td>\n",
       "      <td>8.0</td>\n",
       "      <td>110.89</td>\n",
       "      <td>17.6</td>\n",
       "      <td>No</td>\n",
       "      <td>Female</td>\n",
       "      <td>0</td>\n",
       "      <td>0</td>\n",
       "      <td>16523</td>\n",
       "      <td>NaN</td>\n",
       "      <td>0.0</td>\n",
       "      <td>Private</td>\n",
       "    </tr>\n",
       "    <tr>\n",
       "      <th>3</th>\n",
       "      <td>Rural</td>\n",
       "      <td>70.0</td>\n",
       "      <td>69.04</td>\n",
       "      <td>35.9</td>\n",
       "      <td>Yes</td>\n",
       "      <td>Female</td>\n",
       "      <td>0</td>\n",
       "      <td>0</td>\n",
       "      <td>56543</td>\n",
       "      <td>formerly smoked</td>\n",
       "      <td>0.0</td>\n",
       "      <td>Private</td>\n",
       "    </tr>\n",
       "    <tr>\n",
       "      <th>4</th>\n",
       "      <td>Rural</td>\n",
       "      <td>14.0</td>\n",
       "      <td>161.28</td>\n",
       "      <td>19.1</td>\n",
       "      <td>No</td>\n",
       "      <td>Male</td>\n",
       "      <td>0</td>\n",
       "      <td>0</td>\n",
       "      <td>46136</td>\n",
       "      <td>NaN</td>\n",
       "      <td>0.0</td>\n",
       "      <td>Never_worked</td>\n",
       "    </tr>\n",
       "  </tbody>\n",
       "</table>\n",
       "</div>"
      ],
      "text/plain": [
       "  Residence_type   age  avg_glucose_level   bmi ever_married  gender  \\\n",
       "0          Rural   3.0              95.12  18.0           No    Male   \n",
       "1          Urban  58.0              87.96  39.2          Yes    Male   \n",
       "2          Urban   8.0             110.89  17.6           No  Female   \n",
       "3          Rural  70.0              69.04  35.9          Yes  Female   \n",
       "4          Rural  14.0             161.28  19.1           No    Male   \n",
       "\n",
       "   heart_disease  hypertension     id   smoking_status  stroke     work_type  \n",
       "0              0             0  30669              NaN     0.0      children  \n",
       "1              0             1  30468     never smoked     0.0       Private  \n",
       "2              0             0  16523              NaN     0.0       Private  \n",
       "3              0             0  56543  formerly smoked     0.0       Private  \n",
       "4              0             0  46136              NaN     0.0  Never_worked  "
      ]
     },
     "execution_count": 7,
     "metadata": {},
     "output_type": "execute_result"
    }
   ],
   "source": [
    "df_full.head()"
   ]
  },
  {
   "cell_type": "code",
   "execution_count": 8,
   "metadata": {},
   "outputs": [
    {
     "name": "stdout",
     "output_type": "stream",
     "text": [
      "Train dataset size: (43400, 12) Test dataset size: (18601, 11)\n",
      "Total: (62001, 12)\n"
     ]
    }
   ],
   "source": [
    "print('Train dataset size:', df_train.shape, 'Test dataset size:', df_test.shape)\n",
    "print('Total:', df_full.shape)"
   ]
  },
  {
   "cell_type": "markdown",
   "metadata": {},
   "source": [
    "## 2. Data Exploration"
   ]
  },
  {
   "cell_type": "code",
   "execution_count": 9,
   "metadata": {
    "scrolled": false
   },
   "outputs": [
    {
     "name": "stdout",
     "output_type": "stream",
     "text": [
      "<class 'pandas.core.frame.DataFrame'>\n",
      "RangeIndex: 62001 entries, 0 to 62000\n",
      "Data columns (total 12 columns):\n",
      "Residence_type       62001 non-null object\n",
      "age                  62001 non-null float64\n",
      "avg_glucose_level    62001 non-null float64\n",
      "bmi                  59948 non-null float64\n",
      "ever_married         62001 non-null object\n",
      "gender               62001 non-null object\n",
      "heart_disease        62001 non-null int64\n",
      "hypertension         62001 non-null int64\n",
      "id                   62001 non-null int64\n",
      "smoking_status       42958 non-null object\n",
      "stroke               43400 non-null float64\n",
      "work_type            62001 non-null object\n",
      "dtypes: float64(4), int64(3), object(5)\n",
      "memory usage: 5.7+ MB\n"
     ]
    }
   ],
   "source": [
    "df_full.info()"
   ]
  },
  {
   "cell_type": "markdown",
   "metadata": {},
   "source": [
    "Missing values exist in feature \"bmi\" and \"smoking_status\"."
   ]
  },
  {
   "cell_type": "code",
   "execution_count": 10,
   "metadata": {
    "scrolled": true
   },
   "outputs": [
    {
     "data": {
      "text/plain": [
       "id                       0\n",
       "gender                   0\n",
       "age                      0\n",
       "hypertension             0\n",
       "heart_disease            0\n",
       "ever_married             0\n",
       "work_type                0\n",
       "Residence_type           0\n",
       "avg_glucose_level        0\n",
       "bmi                   1462\n",
       "smoking_status       13292\n",
       "stroke                   0\n",
       "dtype: int64"
      ]
     },
     "execution_count": 10,
     "metadata": {},
     "output_type": "execute_result"
    }
   ],
   "source": [
    "df_train.isnull().sum()"
   ]
  },
  {
   "cell_type": "code",
   "execution_count": 11,
   "metadata": {},
   "outputs": [
    {
     "data": {
      "text/plain": [
       "id                      0\n",
       "gender                  0\n",
       "age                     0\n",
       "hypertension            0\n",
       "heart_disease           0\n",
       "ever_married            0\n",
       "work_type               0\n",
       "Residence_type          0\n",
       "avg_glucose_level       0\n",
       "bmi                   591\n",
       "smoking_status       5751\n",
       "dtype: int64"
      ]
     },
     "execution_count": 11,
     "metadata": {},
     "output_type": "execute_result"
    }
   ],
   "source": [
    "df_test.isnull().sum()"
   ]
  },
  {
   "cell_type": "markdown",
   "metadata": {},
   "source": [
    "Check values for each features."
   ]
  },
  {
   "cell_type": "code",
   "execution_count": 12,
   "metadata": {
    "scrolled": true
   },
   "outputs": [
    {
     "name": "stdout",
     "output_type": "stream",
     "text": [
      "Female    36622\n",
      "Male      25366\n",
      "Other        13\n",
      "Name: gender, dtype: int64\n",
      "\n",
      "\n",
      "51.00    1021\n",
      "52.00    1011\n",
      "78.00    1005\n",
      "53.00     992\n",
      "50.00     989\n",
      "57.00     982\n",
      "47.00     969\n",
      "49.00     957\n",
      "46.00     950\n",
      "56.00     942\n",
      "55.00     938\n",
      "54.00     933\n",
      "45.00     925\n",
      "44.00     912\n",
      "48.00     907\n",
      "58.00     907\n",
      "59.00     902\n",
      "60.00     889\n",
      "79.00     880\n",
      "40.00     874\n",
      "61.00     868\n",
      "43.00     864\n",
      "38.00     853\n",
      "42.00     846\n",
      "62.00     844\n",
      "63.00     838\n",
      "41.00     824\n",
      "39.00     822\n",
      "31.00     804\n",
      "29.00     797\n",
      "         ... \n",
      "75.00     507\n",
      "73.00     496\n",
      "77.00     491\n",
      "76.00     484\n",
      "11.00     454\n",
      "10.00     450\n",
      "6.00      375\n",
      "1.64       89\n",
      "1.56       88\n",
      "0.72       84\n",
      "0.80       84\n",
      "1.80       83\n",
      "1.08       82\n",
      "1.48       80\n",
      "1.32       76\n",
      "0.64       75\n",
      "1.40       75\n",
      "1.72       74\n",
      "0.56       73\n",
      "1.16       72\n",
      "0.88       70\n",
      "1.88       68\n",
      "0.32       68\n",
      "0.48       68\n",
      "0.24       66\n",
      "1.24       64\n",
      "1.00       54\n",
      "0.40       52\n",
      "0.16       46\n",
      "0.08       27\n",
      "Name: age, Length: 104, dtype: int64\n",
      "\n",
      "\n",
      "0    56207\n",
      "1     5794\n",
      "Name: hypertension, dtype: int64\n",
      "\n",
      "\n",
      "0    59045\n",
      "1     2956\n",
      "Name: heart_disease, dtype: int64\n",
      "\n",
      "\n",
      "Yes    39877\n",
      "No     22124\n",
      "Name: ever_married, dtype: int64\n",
      "\n",
      "\n",
      "Private          35584\n",
      "Self-employed     9654\n",
      "children          8769\n",
      "Govt_job          7742\n",
      "Never_worked       252\n",
      "Name: work_type, dtype: int64\n",
      "\n",
      "\n",
      "Urban    31066\n",
      "Rural    30935\n",
      "Name: Residence_type, dtype: int64\n",
      "\n",
      "\n",
      "82.79     24\n",
      "98.52     23\n",
      "82.71     23\n",
      "83.10     22\n",
      "79.94     22\n",
      "80.71     21\n",
      "77.28     21\n",
      "89.18     21\n",
      "87.07     20\n",
      "83.01     20\n",
      "77.47     20\n",
      "86.30     20\n",
      "84.49     20\n",
      "85.12     20\n",
      "85.66     19\n",
      "84.40     19\n",
      "98.90     19\n",
      "81.87     19\n",
      "97.50     19\n",
      "84.34     19\n",
      "78.98     19\n",
      "77.12     19\n",
      "83.93     19\n",
      "65.82     19\n",
      "90.71     19\n",
      "72.53     19\n",
      "79.17     19\n",
      "83.37     19\n",
      "88.03     19\n",
      "91.57     19\n",
      "          ..\n",
      "247.56     1\n",
      "194.06     1\n",
      "152.35     1\n",
      "191.01     1\n",
      "198.48     1\n",
      "125.35     1\n",
      "157.41     1\n",
      "198.52     1\n",
      "193.59     1\n",
      "208.00     1\n",
      "233.92     1\n",
      "159.79     1\n",
      "212.11     1\n",
      "235.63     1\n",
      "139.57     1\n",
      "152.65     1\n",
      "193.80     1\n",
      "208.28     1\n",
      "214.76     1\n",
      "188.04     1\n",
      "192.20     1\n",
      "117.09     1\n",
      "132.42     1\n",
      "156.80     1\n",
      "215.89     1\n",
      "157.78     1\n",
      "237.15     1\n",
      "248.37     1\n",
      "189.85     1\n",
      "234.93     1\n",
      "Name: avg_glucose_level, Length: 14143, dtype: int64\n",
      "\n",
      "\n",
      "27.6    375\n",
      "27.7    374\n",
      "26.8    368\n",
      "27.1    363\n",
      "26.2    361\n",
      "26.1    358\n",
      "27.3    356\n",
      "25.7    355\n",
      "25.9    352\n",
      "25.3    351\n",
      "26.5    351\n",
      "27.5    350\n",
      "29.6    348\n",
      "28.3    348\n",
      "27.2    347\n",
      "26.9    347\n",
      "25.2    345\n",
      "28.7    345\n",
      "25.5    344\n",
      "30.6    341\n",
      "29.4    341\n",
      "26.0    338\n",
      "24.9    338\n",
      "25.1    338\n",
      "24.6    337\n",
      "26.7    337\n",
      "24.8    336\n",
      "24.0    336\n",
      "28.6    334\n",
      "24.3    333\n",
      "       ... \n",
      "82.7      1\n",
      "70.6      1\n",
      "88.3      1\n",
      "11.7      1\n",
      "10.2      1\n",
      "89.0      1\n",
      "62.3      1\n",
      "65.8      1\n",
      "10.1      1\n",
      "69.8      1\n",
      "68.5      1\n",
      "63.2      1\n",
      "67.9      1\n",
      "66.4      1\n",
      "73.1      1\n",
      "71.9      1\n",
      "61.0      1\n",
      "71.7      1\n",
      "65.2      1\n",
      "10.9      1\n",
      "71.5      1\n",
      "11.1      1\n",
      "80.2      1\n",
      "70.1      1\n",
      "59.4      1\n",
      "69.9      1\n",
      "11.4      1\n",
      "69.1      1\n",
      "66.6      1\n",
      "66.8      1\n",
      "Name: bmi, Length: 582, dtype: int64\n",
      "\n",
      "\n",
      "never smoked       22886\n",
      "formerly smoked    10753\n",
      "smokes              9319\n",
      "Name: smoking_status, dtype: int64\n",
      "\n",
      "\n"
     ]
    }
   ],
   "source": [
    "for i in range(1,11):\n",
    "    print(df_full[df_train.columns[i]].value_counts())\n",
    "    print('\\n')"
   ]
  },
  {
   "cell_type": "code",
   "execution_count": 13,
   "metadata": {
    "scrolled": false
   },
   "outputs": [
    {
     "data": {
      "image/png": "[encoded data removed]",
      "text/plain": [
       "<matplotlib.figure.Figure at 0x113811828>"
      ]
     },
     "metadata": {},
     "output_type": "display_data"
    }
   ],
   "source": [
    "correlation = df_train.corr()\n",
    "plt.figure(figsize=(10,7))\n",
    "heatmap = sns.heatmap(correlation, annot=True, linewidths=0, vmin=-1, cmap=\"RdBu_r\")"
   ]
  },
  {
   "cell_type": "markdown",
   "metadata": {},
   "source": [
    "Check the ratio of labels. This is a highly imbalanced problem."
   ]
  },
  {
   "cell_type": "code",
   "execution_count": 14,
   "metadata": {
    "scrolled": true
   },
   "outputs": [
    {
     "data": {
      "text/plain": [
       "<function matplotlib.pyplot.show>"
      ]
     },
     "execution_count": 14,
     "metadata": {},
     "output_type": "execute_result"
    },
    {
     "data": {
      "image/png": "[encoded data removed]",
      "text/plain": [
       "<matplotlib.figure.Figure at 0x113811b70>"
      ]
     },
     "metadata": {},
     "output_type": "display_data"
    }
   ],
   "source": [
    "fig = plt.figure(figsize=(10,5))\n",
    "plt.bar(df_train['stroke'].value_counts().index, df_train['stroke'].value_counts().values)\n",
    "plt.xticks(df_train['stroke'].value_counts().index, fontsize=15)\n",
    "plt.show"
   ]
  },
  {
   "cell_type": "code",
   "execution_count": 15,
   "metadata": {},
   "outputs": [
    {
     "data": {
      "text/plain": [
       "0    0.981959\n",
       "1    0.018041\n",
       "Name: stroke, dtype: float64"
      ]
     },
     "execution_count": 15,
     "metadata": {},
     "output_type": "execute_result"
    }
   ],
   "source": [
    "df_train['stroke'].value_counts()/df_train.shape[0]"
   ]
  },
  {
   "cell_type": "markdown",
   "metadata": {},
   "source": [
    "## 3. Feature engineering "
   ]
  },
  {
   "cell_type": "code",
   "execution_count": 16,
   "metadata": {},
   "outputs": [],
   "source": [
    "feat_num = ['age', 'avg_glucose_level', 'bmi']\n",
    "feat_cat = ['gender', 'hypertension', 'heart_disease', 'ever_married', 'work_type', 'Residence_type', 'smoking_status']"
   ]
  },
  {
   "cell_type": "code",
   "execution_count": 17,
   "metadata": {
    "scrolled": true
   },
   "outputs": [
    {
     "data": {
      "image/png": "[encoded data removed]",
      "text/plain": [
       "<matplotlib.figure.Figure at 0x119aed240>"
      ]
     },
     "metadata": {},
     "output_type": "display_data"
    },
    {
     "data": {
      "image/png": "[encoded data removed]",
      "text/plain": [
       "<matplotlib.figure.Figure at 0x114d6e518>"
      ]
     },
     "metadata": {},
     "output_type": "display_data"
    },
    {
     "data": {
      "image/png": "[encoded data removed]",
      "text/plain": [
       "<matplotlib.figure.Figure at 0x114d553c8>"
      ]
     },
     "metadata": {},
     "output_type": "display_data"
    },
    {
     "data": {
      "image/png": "[encoded data removed]",
      "text/plain": [
       "<matplotlib.figure.Figure at 0x119c8e898>"
      ]
     },
     "metadata": {},
     "output_type": "display_data"
    },
    {
     "data": {
      "image/png": "[encoded data removed]",
      "text/plain": [
       "<matplotlib.figure.Figure at 0x119d388d0>"
      ]
     },
     "metadata": {},
     "output_type": "display_data"
    },
    {
     "data": {
      "image/png": "[encoded data removed]",
      "text/plain": [
       "<matplotlib.figure.Figure at 0x119da29e8>"
      ]
     },
     "metadata": {},
     "output_type": "display_data"
    },
    {
     "data": {
      "image/png": "[encoded data removed]",
      "text/plain": [
       "<matplotlib.figure.Figure at 0x119e1cc88>"
      ]
     },
     "metadata": {},
     "output_type": "display_data"
    }
   ],
   "source": [
    "count = 1\n",
    "for i in range(len(feat_cat)):\n",
    "    fig = plt.figure(figsize=(10,30))\n",
    "    plt.subplot(len(feat_cat),2,count)\n",
    "    plt.bar(df_train[feat_cat[i]].value_counts().index, df_train[feat_cat[i]].value_counts().values)\n",
    "    plt.title(\"Train \"+feat_cat[i])\n",
    "    \n",
    "    plt.subplot(len(feat_cat),2,count+1)\n",
    "    plt.bar(df_test[feat_cat[i]].value_counts().index, df_test[feat_cat[i]].value_counts().values)\n",
    "    plt.title(\"Test \"+feat_cat[i])\n",
    "    count+=2"
   ]
  },
  {
   "cell_type": "markdown",
   "metadata": {},
   "source": [
    "Since there are more females than males, we can replace 'other' in gender to be female. Then One-hot-enconding for features gender, ever_married, work_type and Residence_type. "
   ]
  },
  {
   "cell_type": "markdown",
   "metadata": {},
   "source": [
    "**Gender**"
   ]
  },
  {
   "cell_type": "code",
   "execution_count": 18,
   "metadata": {
    "scrolled": true
   },
   "outputs": [
    {
     "data": {
      "text/plain": [
       "Female    36635\n",
       "Male      25366\n",
       "Name: gender, dtype: int64"
      ]
     },
     "execution_count": 18,
     "metadata": {},
     "output_type": "execute_result"
    }
   ],
   "source": [
    "df_full['gender'].replace('Other', 'Female', inplace=True)\n",
    "df_full['gender'].value_counts()"
   ]
  },
  {
   "cell_type": "markdown",
   "metadata": {},
   "source": [
    "**One Hot encoding**"
   ]
  },
  {
   "cell_type": "code",
   "execution_count": 19,
   "metadata": {},
   "outputs": [],
   "source": [
    "dummy_feat = ['gender', 'ever_married', 'work_type', 'Residence_type']\n",
    "df_dummy = pd.get_dummies(df_full[dummy_feat])"
   ]
  },
  {
   "cell_type": "code",
   "execution_count": 20,
   "metadata": {
    "scrolled": true
   },
   "outputs": [
    {
     "data": {
      "text/plain": [
       "(62001, 11)"
      ]
     },
     "execution_count": 20,
     "metadata": {},
     "output_type": "execute_result"
    }
   ],
   "source": [
    "df_dummy.shape"
   ]
  },
  {
   "cell_type": "code",
   "execution_count": 21,
   "metadata": {},
   "outputs": [
    {
     "data": {
      "text/html": [
       "<div>\n",
       "<style scoped>\n",
       "    .dataframe tbody tr th:only-of-type {\n",
       "        vertical-align: middle;\n",
       "    }\n",
       "\n",
       "    .dataframe tbody tr th {\n",
       "        vertical-align: top;\n",
       "    }\n",
       "\n",
       "    .dataframe thead th {\n",
       "        text-align: right;\n",
       "    }\n",
       "</style>\n",
       "<table border=\"1\" class=\"dataframe\">\n",
       "  <thead>\n",
       "    <tr style=\"text-align: right;\">\n",
       "      <th></th>\n",
       "      <th>gender_Female</th>\n",
       "      <th>gender_Male</th>\n",
       "      <th>ever_married_No</th>\n",
       "      <th>ever_married_Yes</th>\n",
       "      <th>work_type_Govt_job</th>\n",
       "      <th>work_type_Never_worked</th>\n",
       "      <th>work_type_Private</th>\n",
       "      <th>work_type_Self-employed</th>\n",
       "      <th>work_type_children</th>\n",
       "      <th>Residence_type_Rural</th>\n",
       "      <th>Residence_type_Urban</th>\n",
       "    </tr>\n",
       "  </thead>\n",
       "  <tbody>\n",
       "    <tr>\n",
       "      <th>0</th>\n",
       "      <td>0</td>\n",
       "      <td>1</td>\n",
       "      <td>1</td>\n",
       "      <td>0</td>\n",
       "      <td>0</td>\n",
       "      <td>0</td>\n",
       "      <td>0</td>\n",
       "      <td>0</td>\n",
       "      <td>1</td>\n",
       "      <td>1</td>\n",
       "      <td>0</td>\n",
       "    </tr>\n",
       "    <tr>\n",
       "      <th>1</th>\n",
       "      <td>0</td>\n",
       "      <td>1</td>\n",
       "      <td>0</td>\n",
       "      <td>1</td>\n",
       "      <td>0</td>\n",
       "      <td>0</td>\n",
       "      <td>1</td>\n",
       "      <td>0</td>\n",
       "      <td>0</td>\n",
       "      <td>0</td>\n",
       "      <td>1</td>\n",
       "    </tr>\n",
       "    <tr>\n",
       "      <th>2</th>\n",
       "      <td>1</td>\n",
       "      <td>0</td>\n",
       "      <td>1</td>\n",
       "      <td>0</td>\n",
       "      <td>0</td>\n",
       "      <td>0</td>\n",
       "      <td>1</td>\n",
       "      <td>0</td>\n",
       "      <td>0</td>\n",
       "      <td>0</td>\n",
       "      <td>1</td>\n",
       "    </tr>\n",
       "    <tr>\n",
       "      <th>3</th>\n",
       "      <td>1</td>\n",
       "      <td>0</td>\n",
       "      <td>0</td>\n",
       "      <td>1</td>\n",
       "      <td>0</td>\n",
       "      <td>0</td>\n",
       "      <td>1</td>\n",
       "      <td>0</td>\n",
       "      <td>0</td>\n",
       "      <td>1</td>\n",
       "      <td>0</td>\n",
       "    </tr>\n",
       "    <tr>\n",
       "      <th>4</th>\n",
       "      <td>0</td>\n",
       "      <td>1</td>\n",
       "      <td>1</td>\n",
       "      <td>0</td>\n",
       "      <td>0</td>\n",
       "      <td>1</td>\n",
       "      <td>0</td>\n",
       "      <td>0</td>\n",
       "      <td>0</td>\n",
       "      <td>1</td>\n",
       "      <td>0</td>\n",
       "    </tr>\n",
       "  </tbody>\n",
       "</table>\n",
       "</div>"
      ],
      "text/plain": [
       "   gender_Female  gender_Male  ever_married_No  ever_married_Yes  \\\n",
       "0              0            1                1                 0   \n",
       "1              0            1                0                 1   \n",
       "2              1            0                1                 0   \n",
       "3              1            0                0                 1   \n",
       "4              0            1                1                 0   \n",
       "\n",
       "   work_type_Govt_job  work_type_Never_worked  work_type_Private  \\\n",
       "0                   0                       0                  0   \n",
       "1                   0                       0                  1   \n",
       "2                   0                       0                  1   \n",
       "3                   0                       0                  1   \n",
       "4                   0                       1                  0   \n",
       "\n",
       "   work_type_Self-employed  work_type_children  Residence_type_Rural  \\\n",
       "0                        0                   1                     1   \n",
       "1                        0                   0                     0   \n",
       "2                        0                   0                     0   \n",
       "3                        0                   0                     1   \n",
       "4                        0                   0                     1   \n",
       "\n",
       "   Residence_type_Urban  \n",
       "0                     0  \n",
       "1                     1  \n",
       "2                     1  \n",
       "3                     0  \n",
       "4                     0  "
      ]
     },
     "execution_count": 21,
     "metadata": {},
     "output_type": "execute_result"
    }
   ],
   "source": [
    "df_dummy.head()"
   ]
  },
  {
   "cell_type": "markdown",
   "metadata": {},
   "source": [
    "**Deal with age**"
   ]
  },
  {
   "cell_type": "code",
   "execution_count": 27,
   "metadata": {
    "scrolled": true
   },
   "outputs": [
    {
     "data": {
      "text/plain": [
       "count    62001.000000\n",
       "mean        42.169475\n",
       "std         22.522100\n",
       "min          0.080000\n",
       "25%         24.000000\n",
       "50%         44.000000\n",
       "75%         60.000000\n",
       "max         82.000000\n",
       "Name: age, dtype: float64"
      ]
     },
     "execution_count": 27,
     "metadata": {},
     "output_type": "execute_result"
    }
   ],
   "source": [
    "df_full['age'].describe()"
   ]
  },
  {
   "cell_type": "code",
   "execution_count": 28,
   "metadata": {},
   "outputs": [],
   "source": [
    "interval = 10\n",
    "\n",
    "def get_age(age):\n",
    "    # age is a float number   \n",
    "    if age < 0:\n",
    "        return 'NA'\n",
    "    elif (age < interval):\n",
    "        return interval\n",
    "    elif (age <= interval * 2):\n",
    "        return interval*2\n",
    "    elif (age <= interval * 3):\n",
    "        return interval * 3\n",
    "    elif (age <= interval * 4):\n",
    "        return interval * 4\n",
    "    elif (age <= interval * 5):\n",
    "        return interval * 5\n",
    "    elif (age <= interval * 6):\n",
    "        return interval * 6\n",
    "    elif (age <= interval * 7):\n",
    "        return interval * 7\n",
    "    elif (age <= interval * 8):\n",
    "        return interval * 8\n",
    "    elif (age <= interval * 9):\n",
    "        return interval * 9\n",
    "    else:\n",
    "        return '100'"
   ]
  },
  {
   "cell_type": "code",
   "execution_count": 30,
   "metadata": {},
   "outputs": [],
   "source": [
    "df_full['age'] = np.array([get_age(x) for x in df_full.age])\n",
    "df_age = pd.get_dummies(df_full.age, prefix = 'age')"
   ]
  },
  {
   "cell_type": "code",
   "execution_count": 31,
   "metadata": {
    "scrolled": true
   },
   "outputs": [
    {
     "data": {
      "text/html": [
       "<div>\n",
       "<style scoped>\n",
       "    .dataframe tbody tr th:only-of-type {\n",
       "        vertical-align: middle;\n",
       "    }\n",
       "\n",
       "    .dataframe tbody tr th {\n",
       "        vertical-align: top;\n",
       "    }\n",
       "\n",
       "    .dataframe thead th {\n",
       "        text-align: right;\n",
       "    }\n",
       "</style>\n",
       "<table border=\"1\" class=\"dataframe\">\n",
       "  <thead>\n",
       "    <tr style=\"text-align: right;\">\n",
       "      <th></th>\n",
       "      <th>age_10</th>\n",
       "      <th>age_20</th>\n",
       "      <th>age_30</th>\n",
       "      <th>age_40</th>\n",
       "      <th>age_50</th>\n",
       "      <th>age_60</th>\n",
       "      <th>age_70</th>\n",
       "      <th>age_80</th>\n",
       "      <th>age_90</th>\n",
       "    </tr>\n",
       "  </thead>\n",
       "  <tbody>\n",
       "    <tr>\n",
       "      <th>0</th>\n",
       "      <td>1</td>\n",
       "      <td>0</td>\n",
       "      <td>0</td>\n",
       "      <td>0</td>\n",
       "      <td>0</td>\n",
       "      <td>0</td>\n",
       "      <td>0</td>\n",
       "      <td>0</td>\n",
       "      <td>0</td>\n",
       "    </tr>\n",
       "    <tr>\n",
       "      <th>1</th>\n",
       "      <td>0</td>\n",
       "      <td>0</td>\n",
       "      <td>0</td>\n",
       "      <td>0</td>\n",
       "      <td>0</td>\n",
       "      <td>1</td>\n",
       "      <td>0</td>\n",
       "      <td>0</td>\n",
       "      <td>0</td>\n",
       "    </tr>\n",
       "    <tr>\n",
       "      <th>2</th>\n",
       "      <td>1</td>\n",
       "      <td>0</td>\n",
       "      <td>0</td>\n",
       "      <td>0</td>\n",
       "      <td>0</td>\n",
       "      <td>0</td>\n",
       "      <td>0</td>\n",
       "      <td>0</td>\n",
       "      <td>0</td>\n",
       "    </tr>\n",
       "    <tr>\n",
       "      <th>3</th>\n",
       "      <td>0</td>\n",
       "      <td>0</td>\n",
       "      <td>0</td>\n",
       "      <td>0</td>\n",
       "      <td>0</td>\n",
       "      <td>0</td>\n",
       "      <td>1</td>\n",
       "      <td>0</td>\n",
       "      <td>0</td>\n",
       "    </tr>\n",
       "    <tr>\n",
       "      <th>4</th>\n",
       "      <td>0</td>\n",
       "      <td>1</td>\n",
       "      <td>0</td>\n",
       "      <td>0</td>\n",
       "      <td>0</td>\n",
       "      <td>0</td>\n",
       "      <td>0</td>\n",
       "      <td>0</td>\n",
       "      <td>0</td>\n",
       "    </tr>\n",
       "  </tbody>\n",
       "</table>\n",
       "</div>"
      ],
      "text/plain": [
       "   age_10  age_20  age_30  age_40  age_50  age_60  age_70  age_80  age_90\n",
       "0       1       0       0       0       0       0       0       0       0\n",
       "1       0       0       0       0       0       1       0       0       0\n",
       "2       1       0       0       0       0       0       0       0       0\n",
       "3       0       0       0       0       0       0       1       0       0\n",
       "4       0       1       0       0       0       0       0       0       0"
      ]
     },
     "execution_count": 31,
     "metadata": {},
     "output_type": "execute_result"
    }
   ],
   "source": [
    "df_age.head()"
   ]
  },
  {
   "cell_type": "markdown",
   "metadata": {},
   "source": [
    "**Smoke**"
   ]
  },
  {
   "cell_type": "code",
   "execution_count": 32,
   "metadata": {},
   "outputs": [],
   "source": [
    "smoke = df_full['smoking_status']\n",
    "smoke.fillna(-1, inplace = True)"
   ]
  },
  {
   "cell_type": "code",
   "execution_count": 33,
   "metadata": {},
   "outputs": [
    {
     "data": {
      "text/html": [
       "<div>\n",
       "<style scoped>\n",
       "    .dataframe tbody tr th:only-of-type {\n",
       "        vertical-align: middle;\n",
       "    }\n",
       "\n",
       "    .dataframe tbody tr th {\n",
       "        vertical-align: top;\n",
       "    }\n",
       "\n",
       "    .dataframe thead th {\n",
       "        text-align: right;\n",
       "    }\n",
       "</style>\n",
       "<table border=\"1\" class=\"dataframe\">\n",
       "  <thead>\n",
       "    <tr style=\"text-align: right;\">\n",
       "      <th></th>\n",
       "      <th>smoke_-1</th>\n",
       "      <th>smoke_formerly smoked</th>\n",
       "      <th>smoke_never smoked</th>\n",
       "      <th>smoke_smokes</th>\n",
       "    </tr>\n",
       "  </thead>\n",
       "  <tbody>\n",
       "    <tr>\n",
       "      <th>0</th>\n",
       "      <td>1</td>\n",
       "      <td>0</td>\n",
       "      <td>0</td>\n",
       "      <td>0</td>\n",
       "    </tr>\n",
       "    <tr>\n",
       "      <th>1</th>\n",
       "      <td>0</td>\n",
       "      <td>0</td>\n",
       "      <td>1</td>\n",
       "      <td>0</td>\n",
       "    </tr>\n",
       "    <tr>\n",
       "      <th>2</th>\n",
       "      <td>1</td>\n",
       "      <td>0</td>\n",
       "      <td>0</td>\n",
       "      <td>0</td>\n",
       "    </tr>\n",
       "    <tr>\n",
       "      <th>3</th>\n",
       "      <td>0</td>\n",
       "      <td>1</td>\n",
       "      <td>0</td>\n",
       "      <td>0</td>\n",
       "    </tr>\n",
       "    <tr>\n",
       "      <th>4</th>\n",
       "      <td>1</td>\n",
       "      <td>0</td>\n",
       "      <td>0</td>\n",
       "      <td>0</td>\n",
       "    </tr>\n",
       "  </tbody>\n",
       "</table>\n",
       "</div>"
      ],
      "text/plain": [
       "   smoke_-1  smoke_formerly smoked  smoke_never smoked  smoke_smokes\n",
       "0         1                      0                   0             0\n",
       "1         0                      0                   1             0\n",
       "2         1                      0                   0             0\n",
       "3         0                      1                   0             0\n",
       "4         1                      0                   0             0"
      ]
     },
     "execution_count": 33,
     "metadata": {},
     "output_type": "execute_result"
    }
   ],
   "source": [
    "df_smoke = pd.get_dummies(smoke, prefix = 'smoke')\n",
    "df_smoke.head()"
   ]
  },
  {
   "cell_type": "code",
   "execution_count": 34,
   "metadata": {},
   "outputs": [
    {
     "data": {
      "text/plain": [
       "count    62001.000000\n",
       "mean       104.453832\n",
       "std         42.960537\n",
       "min         55.000000\n",
       "25%         77.540000\n",
       "50%         91.660000\n",
       "75%        112.120000\n",
       "max        291.050000\n",
       "Name: avg_glucose_level, dtype: float64"
      ]
     },
     "execution_count": 34,
     "metadata": {},
     "output_type": "execute_result"
    }
   ],
   "source": [
    "df_full['avg_glucose_level'].describe()"
   ]
  },
  {
   "cell_type": "markdown",
   "metadata": {},
   "source": [
    "**bmi: fill the missing value with 999**"
   ]
  },
  {
   "cell_type": "code",
   "execution_count": 35,
   "metadata": {},
   "outputs": [],
   "source": [
    "bmi = df_full['bmi']\n",
    "bmi.fillna(999, inplace = True)"
   ]
  },
  {
   "cell_type": "markdown",
   "metadata": {},
   "source": [
    "Data after pre-processing. "
   ]
  },
  {
   "cell_type": "code",
   "execution_count": 36,
   "metadata": {},
   "outputs": [],
   "source": [
    "df = pd.concat((df_dummy, df_age, bmi, df_smoke, df_full[['hypertension', 'heart_disease', 'avg_glucose_level', 'stroke']]), axis = 1)"
   ]
  },
  {
   "cell_type": "code",
   "execution_count": 37,
   "metadata": {
    "scrolled": false
   },
   "outputs": [
    {
     "data": {
      "text/html": [
       "<div>\n",
       "<style scoped>\n",
       "    .dataframe tbody tr th:only-of-type {\n",
       "        vertical-align: middle;\n",
       "    }\n",
       "\n",
       "    .dataframe tbody tr th {\n",
       "        vertical-align: top;\n",
       "    }\n",
       "\n",
       "    .dataframe thead th {\n",
       "        text-align: right;\n",
       "    }\n",
       "</style>\n",
       "<table border=\"1\" class=\"dataframe\">\n",
       "  <thead>\n",
       "    <tr style=\"text-align: right;\">\n",
       "      <th></th>\n",
       "      <th>gender_Female</th>\n",
       "      <th>gender_Male</th>\n",
       "      <th>ever_married_No</th>\n",
       "      <th>ever_married_Yes</th>\n",
       "      <th>work_type_Govt_job</th>\n",
       "      <th>work_type_Never_worked</th>\n",
       "      <th>work_type_Private</th>\n",
       "      <th>work_type_Self-employed</th>\n",
       "      <th>work_type_children</th>\n",
       "      <th>Residence_type_Rural</th>\n",
       "      <th>...</th>\n",
       "      <th>age_90</th>\n",
       "      <th>bmi</th>\n",
       "      <th>smoke_-1</th>\n",
       "      <th>smoke_formerly smoked</th>\n",
       "      <th>smoke_never smoked</th>\n",
       "      <th>smoke_smokes</th>\n",
       "      <th>hypertension</th>\n",
       "      <th>heart_disease</th>\n",
       "      <th>avg_glucose_level</th>\n",
       "      <th>stroke</th>\n",
       "    </tr>\n",
       "  </thead>\n",
       "  <tbody>\n",
       "    <tr>\n",
       "      <th>0</th>\n",
       "      <td>0</td>\n",
       "      <td>1</td>\n",
       "      <td>1</td>\n",
       "      <td>0</td>\n",
       "      <td>0</td>\n",
       "      <td>0</td>\n",
       "      <td>0</td>\n",
       "      <td>0</td>\n",
       "      <td>1</td>\n",
       "      <td>1</td>\n",
       "      <td>...</td>\n",
       "      <td>0</td>\n",
       "      <td>18.0</td>\n",
       "      <td>1</td>\n",
       "      <td>0</td>\n",
       "      <td>0</td>\n",
       "      <td>0</td>\n",
       "      <td>0</td>\n",
       "      <td>0</td>\n",
       "      <td>95.12</td>\n",
       "      <td>0.0</td>\n",
       "    </tr>\n",
       "    <tr>\n",
       "      <th>1</th>\n",
       "      <td>0</td>\n",
       "      <td>1</td>\n",
       "      <td>0</td>\n",
       "      <td>1</td>\n",
       "      <td>0</td>\n",
       "      <td>0</td>\n",
       "      <td>1</td>\n",
       "      <td>0</td>\n",
       "      <td>0</td>\n",
       "      <td>0</td>\n",
       "      <td>...</td>\n",
       "      <td>0</td>\n",
       "      <td>39.2</td>\n",
       "      <td>0</td>\n",
       "      <td>0</td>\n",
       "      <td>1</td>\n",
       "      <td>0</td>\n",
       "      <td>1</td>\n",
       "      <td>0</td>\n",
       "      <td>87.96</td>\n",
       "      <td>0.0</td>\n",
       "    </tr>\n",
       "    <tr>\n",
       "      <th>2</th>\n",
       "      <td>1</td>\n",
       "      <td>0</td>\n",
       "      <td>1</td>\n",
       "      <td>0</td>\n",
       "      <td>0</td>\n",
       "      <td>0</td>\n",
       "      <td>1</td>\n",
       "      <td>0</td>\n",
       "      <td>0</td>\n",
       "      <td>0</td>\n",
       "      <td>...</td>\n",
       "      <td>0</td>\n",
       "      <td>17.6</td>\n",
       "      <td>1</td>\n",
       "      <td>0</td>\n",
       "      <td>0</td>\n",
       "      <td>0</td>\n",
       "      <td>0</td>\n",
       "      <td>0</td>\n",
       "      <td>110.89</td>\n",
       "      <td>0.0</td>\n",
       "    </tr>\n",
       "    <tr>\n",
       "      <th>3</th>\n",
       "      <td>1</td>\n",
       "      <td>0</td>\n",
       "      <td>0</td>\n",
       "      <td>1</td>\n",
       "      <td>0</td>\n",
       "      <td>0</td>\n",
       "      <td>1</td>\n",
       "      <td>0</td>\n",
       "      <td>0</td>\n",
       "      <td>1</td>\n",
       "      <td>...</td>\n",
       "      <td>0</td>\n",
       "      <td>35.9</td>\n",
       "      <td>0</td>\n",
       "      <td>1</td>\n",
       "      <td>0</td>\n",
       "      <td>0</td>\n",
       "      <td>0</td>\n",
       "      <td>0</td>\n",
       "      <td>69.04</td>\n",
       "      <td>0.0</td>\n",
       "    </tr>\n",
       "    <tr>\n",
       "      <th>4</th>\n",
       "      <td>0</td>\n",
       "      <td>1</td>\n",
       "      <td>1</td>\n",
       "      <td>0</td>\n",
       "      <td>0</td>\n",
       "      <td>1</td>\n",
       "      <td>0</td>\n",
       "      <td>0</td>\n",
       "      <td>0</td>\n",
       "      <td>1</td>\n",
       "      <td>...</td>\n",
       "      <td>0</td>\n",
       "      <td>19.1</td>\n",
       "      <td>1</td>\n",
       "      <td>0</td>\n",
       "      <td>0</td>\n",
       "      <td>0</td>\n",
       "      <td>0</td>\n",
       "      <td>0</td>\n",
       "      <td>161.28</td>\n",
       "      <td>0.0</td>\n",
       "    </tr>\n",
       "  </tbody>\n",
       "</table>\n",
       "<p>5 rows × 29 columns</p>\n",
       "</div>"
      ],
      "text/plain": [
       "   gender_Female  gender_Male  ever_married_No  ever_married_Yes  \\\n",
       "0              0            1                1                 0   \n",
       "1              0            1                0                 1   \n",
       "2              1            0                1                 0   \n",
       "3              1            0                0                 1   \n",
       "4              0            1                1                 0   \n",
       "\n",
       "   work_type_Govt_job  work_type_Never_worked  work_type_Private  \\\n",
       "0                   0                       0                  0   \n",
       "1                   0                       0                  1   \n",
       "2                   0                       0                  1   \n",
       "3                   0                       0                  1   \n",
       "4                   0                       1                  0   \n",
       "\n",
       "   work_type_Self-employed  work_type_children  Residence_type_Rural   ...    \\\n",
       "0                        0                   1                     1   ...     \n",
       "1                        0                   0                     0   ...     \n",
       "2                        0                   0                     0   ...     \n",
       "3                        0                   0                     1   ...     \n",
       "4                        0                   0                     1   ...     \n",
       "\n",
       "   age_90   bmi  smoke_-1  smoke_formerly smoked  smoke_never smoked  \\\n",
       "0       0  18.0         1                      0                   0   \n",
       "1       0  39.2         0                      0                   1   \n",
       "2       0  17.6         1                      0                   0   \n",
       "3       0  35.9         0                      1                   0   \n",
       "4       0  19.1         1                      0                   0   \n",
       "\n",
       "   smoke_smokes  hypertension  heart_disease  avg_glucose_level  stroke  \n",
       "0             0             0              0              95.12     0.0  \n",
       "1             0             1              0              87.96     0.0  \n",
       "2             0             0              0             110.89     0.0  \n",
       "3             0             0              0              69.04     0.0  \n",
       "4             0             0              0             161.28     0.0  \n",
       "\n",
       "[5 rows x 29 columns]"
      ]
     },
     "execution_count": 37,
     "metadata": {},
     "output_type": "execute_result"
    }
   ],
   "source": [
    "df.head()"
   ]
  },
  {
   "cell_type": "markdown",
   "metadata": {},
   "source": [
    "## 4. Model"
   ]
  },
  {
   "cell_type": "markdown",
   "metadata": {},
   "source": [
    "**Random Forest**"
   ]
  },
  {
   "cell_type": "code",
   "execution_count": 42,
   "metadata": {},
   "outputs": [],
   "source": [
    "df_train = df[:df_train.shape[0]]\n",
    "df_test = df[df_train.shape[0]:].drop(['stroke'], axis= 1)"
   ]
  },
  {
   "cell_type": "code",
   "execution_count": 43,
   "metadata": {},
   "outputs": [],
   "source": [
    "from sklearn.model_selection import train_test_split\n",
    "Y = df_train['stroke']\n",
    "X = df_train.drop(['stroke'], axis= 1)\n",
    "x_train, x_test, y_train, y_test = train_test_split(X, Y, test_size=0.2, random_state=1234)"
   ]
  },
  {
   "cell_type": "code",
   "execution_count": 44,
   "metadata": {},
   "outputs": [
    {
     "name": "stdout",
     "output_type": "stream",
     "text": [
      "             precision    recall  f1-score   support\n",
      "\n",
      "        0.0       0.98      1.00      0.99      8499\n",
      "        1.0       0.06      0.01      0.01       181\n",
      "\n",
      "avg / total       0.96      0.98      0.97      8680\n",
      "\n",
      "Accuracy score: 0.9775345622119815\n"
     ]
    }
   ],
   "source": [
    "from sklearn.ensemble import RandomForestClassifier\n",
    "RF = RandomForestClassifier(class_weight = {0:1, 1:49})\n",
    "RF = RF.fit(x_train, y_train)\n",
    "RF_pred = RF.predict(x_test)\n",
    "print (metrics.classification_report(y_test, RF_pred))\n",
    "print('Accuracy score:', accuracy_score(y_test, RF_pred))"
   ]
  },
  {
   "cell_type": "code",
   "execution_count": 45,
   "metadata": {},
   "outputs": [
    {
     "data": {
      "text/plain": [
       "0.5018799741796077"
      ]
     },
     "execution_count": 45,
     "metadata": {},
     "output_type": "execute_result"
    }
   ],
   "source": [
    "from sklearn.metrics import roc_auc_score\n",
    "roc_auc_score(y_test, RF_pred)"
   ]
  },
  {
   "cell_type": "markdown",
   "metadata": {},
   "source": [
    "**XGBoost**"
   ]
  },
  {
   "cell_type": "code",
   "execution_count": 46,
   "metadata": {},
   "outputs": [],
   "source": [
    "import xgboost as xgb\n",
    "dtrain = xgb.DMatrix(x_train, label=y_train, missing = np.NAN)"
   ]
  },
  {
   "cell_type": "code",
   "execution_count": 47,
   "metadata": {},
   "outputs": [],
   "source": [
    "params = {\"objective\": \"binary:logistic\", \n",
    "          #\"booster\" : \"gbtree\", \n",
    "          \"eta\": 0.05, \n",
    "          \"max_depth\": 6, \n",
    "          \"subsample\": 0.632, \n",
    "          \"colsample_bytree\": 0.7,\n",
    "          #\"silent\": 1, \n",
    "          \"seed\": 1234, \n",
    "          \"eval_metric\": \"auc\",\n",
    "          \"min_child_weight\": 5,\n",
    "          \"gamma\": 0} "
   ]
  },
  {
   "cell_type": "code",
   "execution_count": 48,
   "metadata": {},
   "outputs": [
    {
     "name": "stdout",
     "output_type": "stream",
     "text": [
      "[0]\ttrain-auc:0.733137+0.0481118\ttest-auc:0.728639+0.0537538\n",
      "[50]\ttrain-auc:0.883317+0.00193148\ttest-auc:0.85477+0.0122893\n",
      "[100]\ttrain-auc:0.897553+0.00198947\ttest-auc:0.857492+0.00950417\n",
      "[150]\ttrain-auc:0.909018+0.00128786\ttest-auc:0.857171+0.00789444\n"
     ]
    }
   ],
   "source": [
    "cv_results = xgb.cv(params, dtrain,\n",
    "                    num_boost_round=1500,\n",
    "                    nfold=5,\n",
    "                    maximize=True, \n",
    "                    stratified=True,\n",
    "                    shuffle=True,\n",
    "                    verbose_eval=50,\n",
    "                    seed=1234,\n",
    "                    early_stopping_rounds=50)"
   ]
  },
  {
   "cell_type": "code",
   "execution_count": 49,
   "metadata": {},
   "outputs": [
    {
     "name": "stdout",
     "output_type": "stream",
     "text": [
      "best score: 0.8587966 best iterations: 127\n"
     ]
    }
   ],
   "source": [
    "best_score = cv_results['test-auc-mean'].max()\n",
    "best_iteration = len(cv_results)\n",
    "print('best score:', best_score, 'best iterations:', best_iteration)"
   ]
  },
  {
   "cell_type": "code",
   "execution_count": 51,
   "metadata": {},
   "outputs": [
    {
     "name": "stdout",
     "output_type": "stream",
     "text": [
      "[0]\ttrain-auc:0.71706+0.0346647\ttest-auc:0.714655+0.0396844\n",
      "3 0.8579794 73\n",
      "[0]\ttrain-auc:0.733128+0.048106\ttest-auc:0.728648+0.0537621\n",
      "4 0.8590682000000001 64\n",
      "[0]\ttrain-auc:0.733137+0.0481118\ttest-auc:0.728639+0.0537538\n",
      "5 0.8559602 63\n",
      "[0]\ttrain-auc:0.733137+0.0481118\ttest-auc:0.728639+0.0537538\n",
      "6 0.8561714 60\n",
      "[0]\ttrain-auc:0.733137+0.0481118\ttest-auc:0.728639+0.0537538\n",
      "7 0.8543464000000001 57\n",
      "[0]\ttrain-auc:0.733137+0.0481118\ttest-auc:0.728639+0.0537538\n",
      "8 0.8527528 36\n",
      "[0]\ttrain-auc:0.733137+0.0481118\ttest-auc:0.728639+0.0537538\n",
      "9 0.8533430000000001 36\n",
      "[0]\ttrain-auc:0.733137+0.0481118\ttest-auc:0.728639+0.0537538\n",
      "10 0.8536612 36\n",
      "Best max_depth is 4\n",
      "CPU times: user 2min 59s, sys: 8.72 s, total: 3min 8s\n",
      "Wall time: 1min 8s\n"
     ]
    }
   ],
   "source": [
    "%%time\n",
    "scores = []\n",
    "for max_depth in [3, 4, 5, 6, 7, 8, 9, 10]:\n",
    "\n",
    "    params = dict()\n",
    "    params['objective'] = 'binary:logistic'\n",
    "    params['eta'] = 0.1\n",
    "    params['max_depth'] = max_depth\n",
    "    params['min_child_weight'] = 5\n",
    "    params['colsample_bytree'] = 0.7\n",
    "    params['subsample'] = 0.632\n",
    "    params['gamma'] = 0\n",
    "    params['seed'] = 1234\n",
    "    params['eval_metric'] = 'auc'\n",
    "    cv_results = xgb.cv(params, dtrain,\n",
    "                    num_boost_round=1500,\n",
    "                    nfold=5,\n",
    "                    maximize=True, \n",
    "                    stratified=True,\n",
    "                    shuffle=True,\n",
    "                    verbose_eval=200,\n",
    "                    seed=1234,\n",
    "                    early_stopping_rounds=50)\n",
    "\n",
    "    \n",
    "    best_score = cv_results['test-auc-mean'].max()\n",
    "    best_iteration = len(cv_results)           \n",
    "    print(max_depth, best_score, best_iteration)\n",
    "    scores.append([best_score, params['eta'], params['max_depth'], params['min_child_weight'],\n",
    "                   params['colsample_bytree'], params['subsample'], params['gamma'], best_iteration])\n",
    "\n",
    "scores = pd.DataFrame(scores, columns=['score', 'eta', 'max_depth', 'min_child_weight',\n",
    "                                       'colsample_bytree', 'subsample', 'gamma', 'best_iteration'])\n",
    "best_max_depth = scores.sort_values(by='score', ascending=False)['max_depth'].values[0]\n",
    "print('Best max_depth is', best_max_depth)  "
   ]
  },
  {
   "cell_type": "code",
   "execution_count": 52,
   "metadata": {},
   "outputs": [
    {
     "name": "stdout",
     "output_type": "stream",
     "text": [
      "[0]\ttrain-auc:0.726229+0.0440128\ttest-auc:0.723291+0.0485386\n",
      "1 0.8586782 79\n",
      "[0]\ttrain-auc:0.733128+0.048106\ttest-auc:0.728648+0.0537621\n",
      "5 0.8590682000000001 64\n",
      "[0]\ttrain-auc:0.73287+0.0479952\ttest-auc:0.728235+0.0537521\n",
      "10 0.8573407999999999 59\n",
      "[0]\ttrain-auc:0.732862+0.0479888\ttest-auc:0.728235+0.0537567\n",
      "15 0.8554269999999999 53\n",
      "[0]\ttrain-auc:0.732862+0.0479888\ttest-auc:0.728235+0.0537567\n",
      "25 0.8534633999999999 33\n",
      "[0]\ttrain-auc:0.732796+0.0479345\ttest-auc:0.728114+0.05373\n",
      "35 0.8505255999999999 27\n",
      "[0]\ttrain-auc:0.731763+0.0470852\ttest-auc:0.726866+0.0528376\n",
      "50 0.8480603999999999 17\n",
      "[0]\ttrain-auc:0.719688+0.0366335\ttest-auc:0.71132+0.0364544\n",
      "100 0.8350718 16\n",
      "Best min_child_weight is 5\n",
      "CPU times: user 1min 57s, sys: 5.96 s, total: 2min 3s\n",
      "Wall time: 49 s\n"
     ]
    }
   ],
   "source": [
    "%%time\n",
    "scores = []\n",
    "for min_child_weight in [1, 5, 10, 15, 25, 35, 50, 100]:\n",
    "\n",
    "    params = dict()\n",
    "    params['objective'] = 'binary:logistic'\n",
    "    params['eta'] = 0.1\n",
    "    params['max_depth'] = best_max_depth\n",
    "    params['min_child_weight'] = min_child_weight\n",
    "    params['colsample_bytree'] = 0.7\n",
    "    params['subsample'] = 0.632\n",
    "    params['gamma'] = 0\n",
    "    params['seed'] = 1234\n",
    "    params['eval_metric'] = 'auc'\n",
    "    cv_results = xgb.cv(params, dtrain,\n",
    "                    num_boost_round=1500,\n",
    "                    nfold=5,\n",
    "                    maximize=True, \n",
    "                    stratified=True,\n",
    "                    shuffle=True,\n",
    "                    verbose_eval=200,\n",
    "                    seed=1234,\n",
    "                    early_stopping_rounds=50)\n",
    "\n",
    "    \n",
    "    best_score = cv_results['test-auc-mean'].max()\n",
    "    best_iteration = len(cv_results)           \n",
    "    print(min_child_weight, best_score, best_iteration)\n",
    "    scores.append([best_score, params['eta'], params['max_depth'], params['min_child_weight'],\n",
    "                   params['colsample_bytree'], params['subsample'], params['gamma'], best_iteration])\n",
    "\n",
    "scores = pd.DataFrame(scores, columns=['score', 'eta', 'max_depth', 'min_child_weight',\n",
    "                                       'colsample_bytree', 'subsample', 'gamma', 'best_iteration'])\n",
    "best_min_child_weight = scores.sort_values(by='score', ascending=False)['min_child_weight'].values[0]\n",
    "print('Best min_child_weight is', best_min_child_weight)    "
   ]
  },
  {
   "cell_type": "code",
   "execution_count": 53,
   "metadata": {},
   "outputs": [
    {
     "name": "stdout",
     "output_type": "stream",
     "text": [
      "[0]\ttrain-auc:0.585165+0.0712102\ttest-auc:0.583558+0.0707285\n",
      "[200]\ttrain-auc:0.873004+0.00159024\ttest-auc:0.850049+0.00918731\n",
      "0.1 0.850525 230\n",
      "[0]\ttrain-auc:0.675338+0.0108976\ttest-auc:0.677011+0.0172089\n",
      "0.3 0.8576 82\n",
      "[0]\ttrain-auc:0.720691+0.0502654\ttest-auc:0.720826+0.0562123\n",
      "0.5 0.8581434 63\n",
      "[0]\ttrain-auc:0.733128+0.048106\ttest-auc:0.728648+0.0537621\n",
      "0.7 0.8590682000000001 64\n",
      "[0]\ttrain-auc:0.768664+0.0161337\ttest-auc:0.759762+0.0184572\n",
      "0.9 0.8566048 64\n",
      "Best colsample_bytree is 0.7\n",
      "CPU times: user 1min 24s, sys: 5.1 s, total: 1min 29s\n",
      "Wall time: 35.8 s\n"
     ]
    }
   ],
   "source": [
    "%%time\n",
    "scores = []\n",
    "for colsample_bytree in [0.1, 0.3, 0.5, 0.7, 0.9]:\n",
    "\n",
    "    params = dict()\n",
    "    params['objective'] = 'binary:logistic'\n",
    "    params['eta'] = 0.1\n",
    "    params['max_depth'] = best_max_depth\n",
    "    params['min_child_weight'] = best_min_child_weight\n",
    "    params['colsample_bytree'] = colsample_bytree\n",
    "    params['subsample'] = 0.632\n",
    "    params['gamma'] = 0\n",
    "    params['seed'] = 1234\n",
    "    params['eval_metric'] = 'auc'\n",
    "    cv_results = xgb.cv(params, dtrain,\n",
    "                    num_boost_round=1500,\n",
    "                    nfold=5,\n",
    "                    maximize=True, \n",
    "                    stratified=True,\n",
    "                    shuffle=True,\n",
    "                    verbose_eval=200,\n",
    "                    seed=1234,\n",
    "                    early_stopping_rounds=50)\n",
    "\n",
    "    \n",
    "    best_score = cv_results['test-auc-mean'].max()\n",
    "    best_iteration = len(cv_results)           \n",
    "    print(colsample_bytree, best_score, best_iteration)\n",
    "    scores.append([best_score, params['eta'], params['max_depth'], params['min_child_weight'],\n",
    "                   params['colsample_bytree'], params['subsample'], params['gamma'], best_iteration])\n",
    "\n",
    "scores = pd.DataFrame(scores, columns=['score', 'eta', 'max_depth', 'min_child_weight',\n",
    "                                       'colsample_bytree', 'subsample', 'gamma', 'best_iteration'])\n",
    "best_colsample_bytree = scores.sort_values(by='score', ascending=False)['colsample_bytree'].values[0]\n",
    "print('Best colsample_bytree is', best_colsample_bytree)    "
   ]
  },
  {
   "cell_type": "code",
   "execution_count": 54,
   "metadata": {},
   "outputs": [
    {
     "name": "stdout",
     "output_type": "stream",
     "text": [
      "[0]\ttrain-auc:0.597002+0.0565956\ttest-auc:0.591315+0.0646162\n",
      "0.1 0.8430114 33\n",
      "[0]\ttrain-auc:0.686833+0.0686352\ttest-auc:0.682715+0.0750874\n",
      "0.3 0.8536206 58\n",
      "[0]\ttrain-auc:0.697258+0.0602126\ttest-auc:0.6966+0.0656014\n",
      "0.5 0.8576594 63\n",
      "[0]\ttrain-auc:0.725896+0.0554871\ttest-auc:0.728475+0.0548121\n",
      "0.7 0.8584102 69\n",
      "[0]\ttrain-auc:0.752084+0.0258205\ttest-auc:0.745534+0.0380825\n",
      "0.9 0.8599600000000001 70\n",
      "Best subsample is 0.9\n",
      "CPU times: user 1min 16s, sys: 4.21 s, total: 1min 20s\n",
      "Wall time: 31 s\n"
     ]
    }
   ],
   "source": [
    "%%time\n",
    "scores = []\n",
    "for subsample in [0.1, 0.3, 0.5, 0.7, 0.9]:\n",
    "\n",
    "    params = dict()\n",
    "    params['objective'] = 'binary:logistic'\n",
    "    params['eta'] = 0.1\n",
    "    params['max_depth'] = best_max_depth\n",
    "    params['min_child_weight'] = best_min_child_weight\n",
    "    params['colsample_bytree'] = best_colsample_bytree\n",
    "    params['subsample'] = subsample \n",
    "    params['gamma'] = 0\n",
    "    params['seed'] = 1234\n",
    "    params['eval_metric'] = 'auc'\n",
    "    cv_results = xgb.cv(params, dtrain,\n",
    "                    num_boost_round=1500,\n",
    "                    nfold=5,\n",
    "                    maximize=True, \n",
    "                    stratified=True,\n",
    "                    shuffle=True,\n",
    "                    verbose_eval=200,\n",
    "                    seed=1234,\n",
    "                    early_stopping_rounds=50)\n",
    "\n",
    "    \n",
    "    best_score = cv_results['test-auc-mean'].max()\n",
    "    best_iteration = len(cv_results)           \n",
    "    print(subsample, best_score, best_iteration)\n",
    "    scores.append([best_score, params['eta'], params['max_depth'], params['min_child_weight'],\n",
    "                   params['colsample_bytree'], params['subsample'], params['gamma'], best_iteration])\n",
    "\n",
    "scores = pd.DataFrame(scores, columns=['score', 'eta', 'max_depth', 'min_child_weight',\n",
    "                                       'colsample_bytree', 'subsample', 'gamma', 'best_iteration'])\n",
    "best_subsample = scores.sort_values(by='score', ascending=False)['subsample'].values[0]\n",
    "print('Best subsample is', best_subsample)    "
   ]
  },
  {
   "cell_type": "code",
   "execution_count": 55,
   "metadata": {},
   "outputs": [
    {
     "name": "stdout",
     "output_type": "stream",
     "text": [
      "[0]\ttrain-auc:0.752084+0.0258205\ttest-auc:0.745534+0.0380825\n",
      "0 0.8599600000000001 70\n",
      "[0]\ttrain-auc:0.737433+0.0460626\ttest-auc:0.734382+0.047561\n",
      "0.5 0.8600097999999999 70\n",
      "[0]\ttrain-auc:0.710766+0.0410825\ttest-auc:0.714852+0.0389352\n",
      "1 0.8598122 61\n",
      "[0]\ttrain-auc:0.710557+0.0413408\ttest-auc:0.714705+0.0390902\n",
      "1.5 0.8604125999999999 70\n",
      "[0]\ttrain-auc:0.710186+0.0409678\ttest-auc:0.714679+0.0390841\n",
      "2 0.8602816000000001 69\n",
      "Best gamma is 1.5\n",
      "CPU times: user 1min 22s, sys: 4.55 s, total: 1min 26s\n",
      "Wall time: 33 s\n"
     ]
    }
   ],
   "source": [
    "%%time\n",
    "scores = []\n",
    "for gamma in [0, 0.5, 1, 1.5, 2]:\n",
    "\n",
    "    params = dict()\n",
    "    params['objective'] = 'binary:logistic'\n",
    "    params['eta'] = 0.1\n",
    "    params['max_depth'] = best_max_depth\n",
    "    params['min_child_weight'] = best_min_child_weight\n",
    "    params['colsample_bytree'] = best_colsample_bytree\n",
    "    params['subsample'] = best_subsample \n",
    "    params['gamma'] = gamma\n",
    "    params['seed'] = 1234\n",
    "    params['eval_metric'] = 'auc'\n",
    "    cv_results = xgb.cv(params, dtrain,\n",
    "                    num_boost_round=1500,\n",
    "                    nfold=5,\n",
    "                    maximize=True, \n",
    "                    stratified=True,\n",
    "                    shuffle=True,\n",
    "                    verbose_eval=200,\n",
    "                    seed=1234,\n",
    "                    early_stopping_rounds=50)\n",
    "\n",
    "    \n",
    "    best_score = cv_results['test-auc-mean'].max()\n",
    "    best_iteration = len(cv_results)           \n",
    "    print(gamma, best_score, best_iteration)\n",
    "    scores.append([best_score, params['eta'], params['max_depth'], params['min_child_weight'],\n",
    "                   params['colsample_bytree'], params['subsample'], params['gamma'], best_iteration])\n",
    "\n",
    "scores = pd.DataFrame(scores, columns=['score', 'eta', 'max_depth', 'min_child_weight',\n",
    "                                       'colsample_bytree', 'subsample', 'gamma', 'best_iteration'])\n",
    "best_gamma = scores.sort_values(by='score', ascending=False)['gamma'].values[0]\n",
    "print('Best gamma is', best_gamma)    "
   ]
  },
  {
   "cell_type": "code",
   "execution_count": 56,
   "metadata": {},
   "outputs": [
    {
     "name": "stdout",
     "output_type": "stream",
     "text": [
      "4 5 0.7 0.9 1.5\n"
     ]
    },
    {
     "data": {
      "text/html": [
       "<div>\n",
       "<style scoped>\n",
       "    .dataframe tbody tr th:only-of-type {\n",
       "        vertical-align: middle;\n",
       "    }\n",
       "\n",
       "    .dataframe tbody tr th {\n",
       "        vertical-align: top;\n",
       "    }\n",
       "\n",
       "    .dataframe thead th {\n",
       "        text-align: right;\n",
       "    }\n",
       "</style>\n",
       "<table border=\"1\" class=\"dataframe\">\n",
       "  <thead>\n",
       "    <tr style=\"text-align: right;\">\n",
       "      <th></th>\n",
       "      <th>score</th>\n",
       "      <th>eta</th>\n",
       "      <th>max_depth</th>\n",
       "      <th>min_child_weight</th>\n",
       "      <th>colsample_bytree</th>\n",
       "      <th>subsample</th>\n",
       "      <th>gamma</th>\n",
       "      <th>best_iteration</th>\n",
       "    </tr>\n",
       "  </thead>\n",
       "  <tbody>\n",
       "    <tr>\n",
       "      <th>3</th>\n",
       "      <td>0.860413</td>\n",
       "      <td>0.1</td>\n",
       "      <td>4</td>\n",
       "      <td>5</td>\n",
       "      <td>0.7</td>\n",
       "      <td>0.9</td>\n",
       "      <td>1.5</td>\n",
       "      <td>70</td>\n",
       "    </tr>\n",
       "    <tr>\n",
       "      <th>4</th>\n",
       "      <td>0.860282</td>\n",
       "      <td>0.1</td>\n",
       "      <td>4</td>\n",
       "      <td>5</td>\n",
       "      <td>0.7</td>\n",
       "      <td>0.9</td>\n",
       "      <td>2.0</td>\n",
       "      <td>69</td>\n",
       "    </tr>\n",
       "    <tr>\n",
       "      <th>1</th>\n",
       "      <td>0.860010</td>\n",
       "      <td>0.1</td>\n",
       "      <td>4</td>\n",
       "      <td>5</td>\n",
       "      <td>0.7</td>\n",
       "      <td>0.9</td>\n",
       "      <td>0.5</td>\n",
       "      <td>70</td>\n",
       "    </tr>\n",
       "    <tr>\n",
       "      <th>0</th>\n",
       "      <td>0.859960</td>\n",
       "      <td>0.1</td>\n",
       "      <td>4</td>\n",
       "      <td>5</td>\n",
       "      <td>0.7</td>\n",
       "      <td>0.9</td>\n",
       "      <td>0.0</td>\n",
       "      <td>70</td>\n",
       "    </tr>\n",
       "    <tr>\n",
       "      <th>2</th>\n",
       "      <td>0.859812</td>\n",
       "      <td>0.1</td>\n",
       "      <td>4</td>\n",
       "      <td>5</td>\n",
       "      <td>0.7</td>\n",
       "      <td>0.9</td>\n",
       "      <td>1.0</td>\n",
       "      <td>61</td>\n",
       "    </tr>\n",
       "  </tbody>\n",
       "</table>\n",
       "</div>"
      ],
      "text/plain": [
       "      score  eta  max_depth  min_child_weight  colsample_bytree  subsample  \\\n",
       "3  0.860413  0.1          4                 5               0.7        0.9   \n",
       "4  0.860282  0.1          4                 5               0.7        0.9   \n",
       "1  0.860010  0.1          4                 5               0.7        0.9   \n",
       "0  0.859960  0.1          4                 5               0.7        0.9   \n",
       "2  0.859812  0.1          4                 5               0.7        0.9   \n",
       "\n",
       "   gamma  best_iteration  \n",
       "3    1.5              70  \n",
       "4    2.0              69  \n",
       "1    0.5              70  \n",
       "0    0.0              70  \n",
       "2    1.0              61  "
      ]
     },
     "execution_count": 56,
     "metadata": {},
     "output_type": "execute_result"
    }
   ],
   "source": [
    "print(best_max_depth, best_min_child_weight,\n",
    "      best_colsample_bytree, best_subsample, best_gamma)\n",
    "\n",
    "scores.sort_values(by='score',ascending=False)"
   ]
  },
  {
   "cell_type": "code",
   "execution_count": 57,
   "metadata": {},
   "outputs": [
    {
     "name": "stdout",
     "output_type": "stream",
     "text": [
      "[0]\ttrain-auc:0.710186+0.0409678\ttest-auc:0.714679+0.0390841\n",
      "0.8602816000000001 69\n"
     ]
    }
   ],
   "source": [
    "xgb_params = dict()\n",
    "xgb_params['objective'] = 'binary:logistic'\n",
    "xgb_params['eta'] = 0.05\n",
    "xgb_params['max_depth'] = best_max_depth\n",
    "xgb_params['min_child_weight'] = best_min_child_weight\n",
    "xgb_params['colsample_bytree'] = best_colsample_bytree\n",
    "xgb_params['subsample'] = best_subsample \n",
    "xgb_params['gamma'] = best_gamma\n",
    "xgb_params['seed'] = 1234\n",
    "xgb_params['eval_metric'] = 'auc'\n",
    "cv_results = xgb.cv(params, dtrain,\n",
    "                num_boost_round=1500,\n",
    "                nfold=5,\n",
    "                maximize=True, \n",
    "                stratified=True,\n",
    "                shuffle=True,\n",
    "                verbose_eval=200,\n",
    "                seed=1234,\n",
    "                early_stopping_rounds=50)\n",
    "\n",
    "best_score = cv_results['test-auc-mean'].max()\n",
    "best_iteration = len(cv_results)           \n",
    "print(best_score, best_iteration)"
   ]
  },
  {
   "cell_type": "code",
   "execution_count": 58,
   "metadata": {},
   "outputs": [],
   "source": [
    "xgb_model = xgb.train(xgb_params,\n",
    "                  dtrain,\n",
    "                  num_boost_round=best_iteration)"
   ]
  },
  {
   "cell_type": "code",
   "execution_count": 59,
   "metadata": {},
   "outputs": [],
   "source": [
    "dtest = xgb.DMatrix(x_test, missing = np.NAN)\n",
    "xgb_pred = xgb_model.predict(dtest)"
   ]
  },
  {
   "cell_type": "code",
   "execution_count": 60,
   "metadata": {},
   "outputs": [
    {
     "data": {
      "text/plain": [
       "0.8503990394710068"
      ]
     },
     "execution_count": 60,
     "metadata": {},
     "output_type": "execute_result"
    }
   ],
   "source": [
    "roc_auc_score(y_test, xgb_pred)"
   ]
  },
  {
   "cell_type": "code",
   "execution_count": 61,
   "metadata": {},
   "outputs": [],
   "source": [
    "df_test1 = xgb.DMatrix(df_test, missing = np.NAN)"
   ]
  },
  {
   "cell_type": "code",
   "execution_count": 62,
   "metadata": {
    "scrolled": true
   },
   "outputs": [],
   "source": [
    "pred1 = xgb_model.predict(df_test1)"
   ]
  },
  {
   "cell_type": "code",
   "execution_count": 63,
   "metadata": {},
   "outputs": [],
   "source": [
    "y2 = pd.DataFrame(pred1, columns=['stroke'])"
   ]
  },
  {
   "cell_type": "code",
   "execution_count": 64,
   "metadata": {
    "scrolled": true
   },
   "outputs": [],
   "source": [
    "df_test = pd.read_csv('test_v2akXPA.csv')\n",
    "df_id = pd.DataFrame(df_test['id']).reset_index().drop(['index'], axis=1)\n",
    "predict_data = pd.concat([df_id, y2], axis=1)\n",
    "predict_data.to_csv('Submmission3.csv', index=False)"
   ]
  }
 ],
 "metadata": {
  "kernelspec": {
   "display_name": "Python 3",
   "language": "python",
   "name": "python3"
  },
  "language_info": {
   "codemirror_mode": {
    "name": "ipython",
    "version": 3
   },
   "file_extension": ".py",
   "mimetype": "text/x-python",
   "name": "python",
   "nbconvert_exporter": "python",
   "pygments_lexer": "ipython3",
   "version": "3.6.4"
  }
 },
 "nbformat": 4,
 "nbformat_minor": 2
}
